{
  "nbformat": 4,
  "nbformat_minor": 0,
  "metadata": {
    "colab": {
      "provenance": [],
      "gpuType": "T4",
      "include_colab_link": true
    },
    "kernelspec": {
      "name": "python3",
      "display_name": "Python 3"
    },
    "language_info": {
      "name": "python"
    },
    "accelerator": "GPU"
  },
  "cells": [
    {
      "cell_type": "markdown",
      "metadata": {
        "id": "view-in-github",
        "colab_type": "text"
      },
      "source": [
        "<a href=\"https://colab.research.google.com/github/selcuk-yalcin/TrustworthyML/blob/main/Pseudo_Labeling.ipynb\" target=\"_parent\"><img src=\"https://colab.research.google.com/assets/colab-badge.svg\" alt=\"Open In Colab\"/></a>"
      ]
    },
    {
      "cell_type": "code",
      "execution_count": 1,
      "metadata": {
        "id": "C7bJHFFAW9dp"
      },
      "outputs": [],
      "source": [
        "import torch\n",
        "import torch.nn as nn\n",
        "import torch.optim as optim\n",
        "from torchvision import datasets, transforms, models\n",
        "from torch.utils.data import DataLoader, Subset, ConcatDataset\n",
        "import numpy as np"
      ]
    },
    {
      "cell_type": "code",
      "source": [
        "# --- 1. Download and prepare CIFAR-10 dataset ---\n",
        "\n",
        "transform_train = transforms.Compose([\n",
        "    transforms.Resize((224, 224)),  # Resize for ResNet input\n",
        "    transforms.ToTensor(),\n",
        "    transforms.Normalize((0.5, 0.5, 0.5), (0.5, 0.5, 0.5))\n",
        "])\n",
        "\n",
        "transform_test = transforms.Compose([\n",
        "    transforms.Resize((224, 224)),\n",
        "    transforms.ToTensor(),\n",
        "    transforms.Normalize((0.5, 0.5, 0.5), (0.5, 0.5, 0.5))\n",
        "])\n",
        "\n",
        "cifar_train = datasets.CIFAR10(root='./data', train=True, download=True, transform=transform_train)\n",
        "cifar_test = datasets.CIFAR10(root='./data', train=False, download=True, transform=transform_test)"
      ],
      "metadata": {
        "id": "VvwG0wBHGjOd"
      },
      "execution_count": 2,
      "outputs": []
    },
    {
      "cell_type": "code",
      "source": [
        "# --- 2. Split into labeled and unlabeled datasets ---\n",
        "\n",
        "labeled_indices = list(range(500))  # Small labeled set (e.g., 500 images)\n",
        "unlabeled_indices = list(range(500, len(cifar_train)))  # Remaining as unlabeled\n",
        "\n",
        "labeled_dataset = Subset(cifar_train, labeled_indices)\n",
        "unlabeled_dataset = Subset(cifar_train, unlabeled_indices)\n",
        "\n",
        "test_loader = DataLoader(cifar_test, batch_size=128, shuffle=False)\n",
        "labeled_loader = DataLoader(labeled_dataset, batch_size=32, shuffle=True)\n",
        "unlabeled_loader = DataLoader(unlabeled_dataset, batch_size=128, shuffle=False)"
      ],
      "metadata": {
        "id": "ZlXkEerCGmIO"
      },
      "execution_count": 3,
      "outputs": []
    },
    {
      "cell_type": "code",
      "source": [
        "# --- 3. Load pretrained ResNet-18 model ---\n",
        "\n",
        "device = torch.device(\"cuda\" if torch.cuda.is_available() else \"cpu\")\n",
        "\n",
        "resnet = models.resnet18(pretrained=True)\n",
        "\n",
        "# Modify the final layer for CIFAR-10 (10 classes)\n",
        "num_ftrs = resnet.fc.in_features\n",
        "resnet.fc = nn.Linear(num_ftrs, 10)\n",
        "\n",
        "resnet = resnet.to(device)"
      ],
      "metadata": {
        "colab": {
          "base_uri": "https://localhost:8080/"
        },
        "id": "xWn5d0WjGo6V",
        "outputId": "ed915aeb-c292-436f-ad24-a6394ea7f84c"
      },
      "execution_count": 4,
      "outputs": [
        {
          "output_type": "stream",
          "name": "stderr",
          "text": [
            "/usr/local/lib/python3.12/dist-packages/torchvision/models/_utils.py:208: UserWarning: The parameter 'pretrained' is deprecated since 0.13 and may be removed in the future, please use 'weights' instead.\n",
            "  warnings.warn(\n",
            "/usr/local/lib/python3.12/dist-packages/torchvision/models/_utils.py:223: UserWarning: Arguments other than a weight enum or `None` for 'weights' are deprecated since 0.13 and may be removed in the future. The current behavior is equivalent to passing `weights=ResNet18_Weights.IMAGENET1K_V1`. You can also use `weights=ResNet18_Weights.DEFAULT` to get the most up-to-date weights.\n",
            "  warnings.warn(msg)\n"
          ]
        }
      ]
    },
    {
      "cell_type": "code",
      "source": [
        "# --- 4. Train the model on labeled data only ---\n",
        "\n",
        "criterion = nn.CrossEntropyLoss()\n",
        "optimizer = optim.Adam(resnet.parameters(), lr=0.0005)\n",
        "\n",
        "def train_model(model, dataloader, epochs=5):\n",
        "    model.train()\n",
        "    for epoch in range(epochs):\n",
        "        total_loss = 0\n",
        "        for images, labels in dataloader:\n",
        "            images, labels = images.to(device), labels.to(device)\n",
        "            optimizer.zero_grad()\n",
        "            outputs = model(images)\n",
        "            loss = criterion(outputs, labels)\n",
        "            loss.backward()\n",
        "            optimizer.step()\n",
        "            total_loss += loss.item()\n",
        "        print(f\"Epoch [{epoch+1}/{epochs}], Loss: {total_loss:.4f}\")\n",
        "\n",
        "print(\"Step 1: Training on labeled data...\")\n",
        "train_model(resnet, labeled_loader, epochs=5)"
      ],
      "metadata": {
        "colab": {
          "base_uri": "https://localhost:8080/"
        },
        "id": "hlUHYlHQGm5Y",
        "outputId": "a7963a64-1f2d-49f5-b8fa-683cf543f022"
      },
      "execution_count": 5,
      "outputs": [
        {
          "output_type": "stream",
          "name": "stdout",
          "text": [
            "Step 1: Training on labeled data...\n",
            "Epoch [1/5], Loss: 21.4422\n",
            "Epoch [2/5], Loss: 6.5647\n",
            "Epoch [3/5], Loss: 1.9181\n",
            "Epoch [4/5], Loss: 1.2217\n",
            "Epoch [5/5], Loss: 0.5993\n"
          ]
        }
      ]
    },
    {
      "cell_type": "code",
      "source": [
        "# --- 5. Generate pseudo labels for unlabeled data ---\n",
        "\n",
        "print(\"Step 2: Generating pseudo labels...\")\n",
        "resnet.eval()\n",
        "pseudo_labels = []\n",
        "\n",
        "with torch.no_grad():\n",
        "    for images, _ in unlabeled_loader:\n",
        "        images = images.to(device)\n",
        "        outputs = resnet(images)\n",
        "        predicted = torch.argmax(outputs, dim=1)\n",
        "        pseudo_labels.append(predicted.cpu())\n",
        "\n",
        "pseudo_labels = torch.cat(pseudo_labels)"
      ],
      "metadata": {
        "collapsed": true,
        "id": "DFdytkCiGsaG"
      },
      "execution_count": null,
      "outputs": []
    },
    {
      "cell_type": "code",
      "source": [
        "# --- 6. Combine labeled and pseudo-labeled data ---\n",
        "\n",
        "print(\"Step 3: Combining labeled and pseudo-labeled data...\")\n",
        "\n",
        "unlabeled_images = torch.stack([unlabeled_dataset[i][0] for i in range(len(unlabeled_dataset))])\n",
        "pseudo_label_tensor = pseudo_labels\n",
        "\n",
        "pseudo_labeled_dataset = TensorDataset(unlabeled_images, pseudo_label_tensor)\n",
        "combined_dataset = ConcatDataset([labeled_dataset, pseudo_labeled_dataset])\n",
        "combined_loader = DataLoader(combined_dataset, batch_size=32, shuffle=True)"
      ],
      "metadata": {
        "id": "7Is6r83IGvIA"
      },
      "execution_count": null,
      "outputs": []
    },
    {
      "cell_type": "code",
      "source": [
        "# --- 7. Retrain the model on the combined data ---\n",
        "\n",
        "print(\"Step 4: Retraining with combined data...\")\n",
        "train_model(resnet, combined_loader, epochs=5)\n",
        "\n"
      ],
      "metadata": {
        "id": "0ImSmj0JGx1S"
      },
      "execution_count": null,
      "outputs": []
    },
    {
      "cell_type": "code",
      "source": [
        "# --- 8. Evaluate on the test set ---\n",
        "\n",
        "def evaluate(model, dataloader):\n",
        "    model.eval()\n",
        "    correct = 0\n",
        "    total = 0\n",
        "    with torch.no_grad():\n",
        "        for images, labels in dataloader:\n",
        "            images, labels = images.to(device), labels.to(device)\n",
        "            outputs = model(images)\n",
        "            predicted = torch.argmax(outputs, dim=1)\n",
        "            correct += (predicted == labels).sum().item()\n",
        "            total += labels.size(0)\n",
        "    return correct / total\n",
        "\n",
        "accuracy = evaluate(resnet, test_loader)\n",
        "print(f\"Step 5: Test Accuracy after pseudo labelling: {accuracy:.4f}\")"
      ],
      "metadata": {
        "id": "5sLuHxcuHt2S"
      },
      "execution_count": null,
      "outputs": []
    }
  ]
}