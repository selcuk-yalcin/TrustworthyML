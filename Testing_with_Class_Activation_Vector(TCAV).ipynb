{
  "nbformat": 4,
  "nbformat_minor": 0,
  "metadata": {
    "colab": {
      "provenance": [],
      "include_colab_link": true
    },
    "kernelspec": {
      "name": "python3",
      "display_name": "Python 3"
    },
    "language_info": {
      "name": "python"
    }
  },
  "cells": [
    {
      "cell_type": "markdown",
      "metadata": {
        "id": "view-in-github",
        "colab_type": "text"
      },
      "source": [
        "<a href=\"https://colab.research.google.com/github/selcuk-yalcin/TrustworthyML/blob/main/Testing_with_Class_Activation_Vector(TCAV).ipynb\" target=\"_parent\"><img src=\"https://colab.research.google.com/assets/colab-badge.svg\" alt=\"Open In Colab\"/></a>"
      ]
    },
    {
      "cell_type": "code",
      "execution_count": 27,
      "metadata": {
        "id": "C7bJHFFAW9dp"
      },
      "outputs": [],
      "source": [
        "# ============================================================\n",
        "# Load Dataset and Model\n",
        "#  • Use Caltech101 Dalmatian as the dotted (spotty) concept (positive).\n",
        "#  • Use Caltech101 Airplanes as the random control (negative).\n",
        "#  • Use Caltech101 Leopards as the test set (target class: ImageNet 'leopard' idx=288).\n",
        "#  • Pretrained ResNet50 (ImageNet) provides penultimate activations (avg_pool).\n",
        "# ============================================================\n",
        "\n",
        "# ============================================================\n",
        "# TCAV pipeline (Caltech101: dalmatian vs airplanes → test on leopards)\n",
        "# ============================================================\n",
        "\n",
        "import tensorflow as tf, tensorflow_datasets as tfds, numpy as np\n",
        "from sklearn.linear_model import LogisticRegression\n",
        "from sklearn.preprocessing import StandardScaler\n",
        "from sklearn.pipeline import make_pipeline\n",
        "\n",
        "# ===========================\n",
        "# Step 1 — Define a Concept\n",
        "# Choose positive concept & a random control; collect example sets.\n",
        "# Concept C = 'dalmatian' (dotted), Control = 'airplanes' (random),\n",
        "# Test set X_k = 'leopards' (class k we will measure sensitivity on).\n",
        "# ===========================\n",
        "tf.random.set_seed(0); np.random.seed(0)\n",
        "IMG_SIZE,BATCH,N_POS,N_NEG,N_TEST = 224,16,80,80,80\n",
        "ds, info = tfds.load(\"caltech101\", with_info=True, as_supervised=True)\n",
        "train, names = ds[\"train\"], info.features[\"label\"].names\n",
        "idx_dalmatian, idx_airplanes, idx_leopards = names.index(\"dalmatian\"), names.index(\"airplanes\"), names.index(\"leopards\")\n",
        "\n",
        "def only_label(idx): return lambda x,y: tf.equal(y, idx)\n",
        "concept_ds, control_ds, test_ds = train.filter(only_label(idx_dalmatian)).take(N_POS), train.filter(only_label(idx_airplanes)).take(N_NEG), train.filter(only_label(idx_leopards)).take(N_TEST)\n",
        "\n",
        "def preprocess(x,y):\n",
        "    x = tf.image.resize(x,(IMG_SIZE,IMG_SIZE))\n",
        "    return tf.keras.applications.resnet50.preprocess_input(x), y\n",
        "def make_loader(ds,batch=BATCH): return ds.map(preprocess).batch(batch).prefetch(tf.data.AUTOTUNE)\n",
        "ldr_pos, ldr_neg, ldr_test = make_loader(concept_ds), make_loader(control_ds), make_loader(test_ds, batch=1)\n"
      ]
    },
    {
      "cell_type": "code",
      "source": [
        "# ===========================\n",
        "# Step 2 — Learn the Concept Activation Vector (CAV)\n",
        "# Extract layer-l features R = f_l(x) and train a linear classifier:\n",
        "#   concept (1) vs control (0).\n",
        "# The separating hyperplane’s weight vector → v_l^C (Concept Activation Vector),\n",
        "# normalized to unit length.\n",
        "# ===========================\n",
        "base = tf.keras.applications.ResNet50(weights=\"imagenet\", include_top=True)\n",
        "feat_model = tf.keras.Model(base.input, base.get_layer(\"avg_pool\").output)  # R ∈ R^2048\n",
        "pred_layer = base.get_layer(\"predictions\")  # logits h_k(·)\n",
        "\n",
        "def extract_features(loader):\n",
        "    feats=[]\n",
        "    for x,_ in loader: feats.append(feat_model(x, training=False).numpy())\n",
        "    return np.concatenate(feats,axis=0) if feats else np.zeros((0,2048),np.float32)\n",
        "\n",
        "X_pos,X_neg = extract_features(ldr_pos), extract_features(ldr_neg)\n",
        "y = np.concatenate([np.ones(len(X_pos),int), np.zeros(len(X_neg),int)])\n",
        "X = np.concatenate([X_pos,X_neg], axis=0)\n",
        "\n",
        "clf = make_pipeline(StandardScaler(with_mean=True,with_std=True),\n",
        "                    LogisticRegression(max_iter=5000,solver=\"liblinear\",class_weight=\"balanced\"))\n",
        "clf.fit(X,y)\n",
        "w = clf.named_steps[\"logisticregression\"].coef_.ravel().astype(np.float32)\n",
        "cav = w / (np.linalg.norm(w)+1e-12)   # v_l^C\n"
      ],
      "metadata": {
        "collapsed": true,
        "id": "OF3cTqi9tnDq"
      },
      "execution_count": 28,
      "outputs": []
    },
    {
      "cell_type": "code",
      "source": [
        "# ===========================\n",
        "# Step 3 — Measure Concept Sensitivity\n",
        "# For each test image x:\n",
        "#   1. Compute gradient of target logit wrt representation R:\n",
        "#        ∇_R h_k(f_l(x))\n",
        "#   2. Project gradient onto concept direction v_l^C:\n",
        "#        S_{C,k,l}(x) = ∇_R h_k(f_l(x)) · v_l^C\n",
        "# This measures how sensitive class k is to moving along concept C.\n",
        "# ===========================\n",
        "TARGET_CLASS = 288  # ImageNet index for 'leopard'\n",
        "def directional_derivative_R(img, cav_vec, target_class):\n",
        "    with tf.GradientTape() as tape:\n",
        "        R = feat_model(img, training=False)   # R = f_l(x)\n",
        "        tape.watch(R)\n",
        "        logit = pred_layer(R)[:, target_class]  # h_k(f_l(x))\n",
        "    grad_R = tape.gradient(logit,R).numpy().reshape(-1)   # ∇_R h_k(f_l(x))\n",
        "    return float(np.dot(grad_R, cav_vec))                 # S_{C,k,l}(x)\n"
      ],
      "metadata": {
        "id": "Atl6eEUJ9LOT"
      },
      "execution_count": 29,
      "outputs": []
    },
    {
      "cell_type": "code",
      "source": [
        "# ===========================\n",
        "# Step 4 — Compute the TCAV Score\n",
        "# TCAV_{C,k,l} = fraction of test inputs x ∈ X_k\n",
        "# where S_{C,k,l}(x) > 0, i.e. moving along concept increases logit.\n",
        "# This gives the concept’s importance for class k.\n",
        "# ===========================\n",
        "def tcav_score(loader, cav_vec, target_class):\n",
        "    dds=[directional_derivative_R(img,cav_vec,target_class) for img,_ in loader]\n",
        "    dds=np.array(dds,np.float32)\n",
        "    return float((dds>0).mean()), dds\n",
        "\n",
        "tcav, dd = tcav_score(ldr_test, cav, TARGET_CLASS)\n",
        "print(f\"TCAV (dalmatian→leopard idx={TARGET_CLASS}): {tcav:.3f}\")\n",
        "print(f\"DD stats: mean={dd.mean():.4f}, std={dd.std():.4f}, min={dd.min():.4f}, max={dd.max():.4f}\")"
      ],
      "metadata": {
        "colab": {
          "base_uri": "https://localhost:8080/"
        },
        "id": "5Ns370b1uCl6",
        "outputId": "4ae305b5-540a-4098-ea5b-7b939470762e"
      },
      "execution_count": 30,
      "outputs": [
        {
          "output_type": "stream",
          "name": "stdout",
          "text": [
            "TCAV (dalmatian→leopard idx=288): 0.667\n",
            "DD stats: mean=-0.0018, std=0.0059, min=-0.0172, max=0.0080\n"
          ]
        }
      ]
    }
  ]
}